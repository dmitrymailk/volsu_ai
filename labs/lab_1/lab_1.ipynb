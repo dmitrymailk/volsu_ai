{
 "cells": [
  {
   "cell_type": "code",
   "execution_count": 110,
   "metadata": {},
   "outputs": [],
   "source": [
    "import pandas as pd\n",
    "import numpy as np\n",
    "import matplotlib as mpl\n",
    "import matplotlib.pyplot as plt\n",
    "\n",
    "# models\n",
    "from sklearn.linear_model import LinearRegression\n",
    "from sklearn.neighbors import KNeighborsRegressor\n",
    "\n",
    "# metrics\n",
    "from sklearn.metrics import mean_squared_error\n",
    "from sklearn.metrics import make_scorer\n",
    "from sklearn.model_selection import train_test_split\n",
    "\n",
    "# train utils\n",
    "from sklearn.model_selection import cross_val_score\n",
    "from sklearn.model_selection import KFold\n",
    "\n",
    "# preprocessing\n",
    "from sklearn.preprocessing import StandardScaler"
   ]
  },
  {
   "cell_type": "code",
   "execution_count": 2,
   "metadata": {},
   "outputs": [],
   "source": [
    "%load_ext blackcellmagic"
   ]
  },
  {
   "cell_type": "markdown",
   "metadata": {},
   "source": [
    "%%black"
   ]
  },
  {
   "cell_type": "markdown",
   "metadata": {},
   "source": [
    "## Lab 1"
   ]
  },
  {
   "cell_type": "markdown",
   "metadata": {},
   "source": [
    "- Значит задание по 0 лабе: рассчитать индекс удовлетворенности жизнью для [соответствующего датасета из книжки](https://github.com/ageron/handson-ml/tree/master/datasets/lifesat), на основании известных данных ВВП на душу (оттуда же) для не менее 20 точек, не считая известных.\n",
    "\n",
    "- Рассчитывать будете двумя способами:\n",
    "\n",
    "  - методом ближайших соседей\n",
    "  - простой линейной регрессией (одномерной) с двумя коэффициентами\n",
    "\n",
    "\n",
    "- Сделать свои функции для ближайших соседей и регрессии\n",
    "  - для регрессии обязательно провести минимизацию методом наименьших квадратов! (и использовать готовые функции scikit-learn)\n",
    "  - Результаты для ваших и библиотечных методов должны совпадать.\n",
    "  - В методе ближайших соседей посчитать для числа соседей 1 и 3.\n",
    "- Сравнить и сделать выводы. Реализация на языке Python. Не забудьте установить библиотеку scikit-learn."
   ]
  },
  {
   "cell_type": "markdown",
   "metadata": {},
   "source": [
    "## Вспомогательные функции"
   ]
  },
  {
   "cell_type": "code",
   "execution_count": 11,
   "metadata": {},
   "outputs": [],
   "source": [
    "def prepare_country_stats(oecd_bli, gdp_per_capita):\n",
    "    oecd_bli = oecd_bli[oecd_bli[\"INEQUALITY\"] == \"TOT\"]\n",
    "    oecd_bli = oecd_bli.pivot(index=\"Country\", columns=\"Indicator\", values=\"Value\")\n",
    "    gdp_per_capita.rename(columns={\"2015\": \"GDP per capita\"}, inplace=True)\n",
    "    gdp_per_capita.set_index(\"Country\", inplace=True)\n",
    "    full_country_stats = pd.merge(\n",
    "        left=oecd_bli, \n",
    "        right=gdp_per_capita, \n",
    "        left_index=True, \n",
    "        right_index=True\n",
    "    )\n",
    "    \n",
    "    full_country_stats.sort_values(by=\"GDP per capita\", inplace=True)\n",
    "    remove_indices = [0, 1, 6, 8, 33, 34, 35]\n",
    "    keep_indices = list(set(range(36)) - set(remove_indices))\n",
    "    return full_country_stats.iloc[keep_indices]#[[\"GDP per capita\", \"Life satisfaction\"]]#\n"
   ]
  },
  {
   "cell_type": "markdown",
   "metadata": {},
   "source": [
    "#### Удовлетворенность жизнью и ВВП на душу населения"
   ]
  },
  {
   "cell_type": "code",
   "execution_count": 411,
   "metadata": {},
   "outputs": [
    {
     "data": {
      "image/png": "[encoded data removed]",
      "text/plain": [
       "<Figure size 432x288 with 1 Axes>"
      ]
     },
     "metadata": {
      "needs_background": "light"
     },
     "output_type": "display_data"
    }
   ],
   "source": [
    "# Load the data\n",
    "oecd_bli = pd.read_csv(\"./datasets/oecd_bli_2015.csv\", thousands=\",\")\n",
    "gdp_per_capita = pd.read_csv(\n",
    "    \"./datasets/gdp_per_capita.csv\",\n",
    "    thousands=\",\",\n",
    "    delimiter=\"\\t\",\n",
    "    encoding=\"latin1\",\n",
    "    na_values=\"n/a\",\n",
    ")\n",
    "\n",
    "\n",
    "# Prepare the data\n",
    "sample_data = prepare_country_stats(oecd_bli, gdp_per_capita)\n",
    "X = np.c_[sample_data[\"GDP per capita\"]]\n",
    "y = np.c_[sample_data[\"Life satisfaction\"]]\n",
    "\n",
    "# Visualize the data\n",
    "sample_data.plot(kind=\"scatter\", x=\"GDP per capita\", y=\"Life satisfaction\")\n",
    "plt.show()"
   ]
  },
  {
   "cell_type": "code",
   "execution_count": 120,
   "metadata": {},
   "outputs": [
    {
     "data": {
      "text/plain": [
       "((29, 1), (29, 1))"
      ]
     },
     "execution_count": 120,
     "metadata": {},
     "output_type": "execute_result"
    }
   ],
   "source": [
    "X.shape, y.shape"
   ]
  },
  {
   "cell_type": "markdown",
   "metadata": {},
   "source": [
    "## Встроенные модели"
   ]
  },
  {
   "cell_type": "markdown",
   "metadata": {},
   "source": [
    "### Linear regression model"
   ]
  },
  {
   "cell_type": "code",
   "execution_count": 413,
   "metadata": {},
   "outputs": [
    {
     "name": "stdout",
     "output_type": "stream",
     "text": [
      "Linear regression Mean Error = 0.2766686042360626\n",
      "Linear regression Mean Error = 0.27666860423606277\n"
     ]
    }
   ],
   "source": [
    "model = LinearRegression()\n",
    "scores = cross_val_score(model, X, y, cv=5, n_jobs=-1, scoring=make_scorer(mean_squared_error))\n",
    "scores = scores.mean()\n",
    "print(f\"Linear regression Mean Error = {scores}\")\n",
    "\n",
    "def k_fold_validation(model_class, X, y, cv=5, model_params=None):\n",
    "\tif model_params == None:\n",
    "\t\tmodel_params = {}\n",
    "\t\n",
    "\tk_fold = KFold(n_splits=cv)\n",
    "\tk_fold.get_n_splits(X)\n",
    "\n",
    "\tscores = []\n",
    "\tfor train_index, test_index in k_fold.split(X):\n",
    "\t\tmodel = model_class(**model_params)\n",
    "\t\tX_train, X_test = X[train_index], X[test_index]\n",
    "\t\ty_train, y_test = y[train_index], y[test_index]\n",
    "\t\t# normalize data\n",
    "\t\tscaler = StandardScaler()\n",
    "\t\tscaler.fit(X_train)\n",
    "\t\tX_train = scaler.transform(X_train)\n",
    "\t\tX_test = scaler.transform(X_test)\n",
    "\t\t\n",
    "\t\tmodel.fit(X_train, y_train)\n",
    "\t\tpred = model.predict(X_test)\n",
    "\t\tresult = mean_squared_error(y_test, pred)\n",
    "\t\tscores.append(result)\n",
    "\n",
    "\tscores = np.array(scores).mean()\n",
    "\n",
    "\treturn scores\n",
    "\n",
    "scores = k_fold_validation(LinearRegression, X, y, cv=5, model_params=None)\n",
    "print(f\"Linear regression Mean Error = {scores}\")"
   ]
  },
  {
   "cell_type": "code",
   "execution_count": null,
   "metadata": {},
   "outputs": [],
   "source": [
    "\"\"\"\n",
    "model.coef_\n",
    "[[0.61967346]]\n",
    "[[0.67627008]]\n",
    "[[0.70577578]]\n",
    "[[0.76452688]]\n",
    "[[0.39163706]]\n",
    "\"\"\""
   ]
  },
  {
   "cell_type": "markdown",
   "metadata": {},
   "source": [
    "### KNN model"
   ]
  },
  {
   "cell_type": "code",
   "execution_count": 123,
   "metadata": {},
   "outputs": [
    {
     "name": "stdout",
     "output_type": "stream",
     "text": [
      "KNN Mean Error with k_neighbors=1 equals 0.35520000000000007\n",
      "KNN Mean Error with k_neighbors=3 equals 0.2937925925925929\n",
      "KNN Mean Error with k_neighbors=5 equals 0.17607999999999993\n",
      "KNN Mean Error with k_neighbors=7 equals 0.1866897959183674\n",
      "KNN Mean Error with k_neighbors=10 equals 0.2829633333333331\n"
     ]
    }
   ],
   "source": [
    "for k_neighbors in [1, 3, 5, 7, 10]:\n",
    "    scores = k_fold_validation(\n",
    "        model_class=KNeighborsRegressor,\n",
    "        X=X,\n",
    "        y=y,\n",
    "        cv=5,\n",
    "        model_params={\"n_neighbors\": k_neighbors},\n",
    "    )\n",
    "    print(f\"KNN Mean Error with k_neighbors={k_neighbors} equals {scores}\")"
   ]
  },
  {
   "cell_type": "markdown",
   "metadata": {},
   "source": [
    "## Модели с нуля"
   ]
  },
  {
   "cell_type": "markdown",
   "metadata": {},
   "source": [
    "### Linear regression model"
   ]
  },
  {
   "cell_type": "code",
   "execution_count": 396,
   "metadata": {},
   "outputs": [
    {
     "name": "stdout",
     "output_type": "stream",
     "text": [
      "[[nan]]\n"
     ]
    },
    {
     "name": "stderr",
     "output_type": "stream",
     "text": [
      "C:\\Users\\dimweb\\AppData\\Local\\Temp\\ipykernel_15272\\3648896529.py:49: RuntimeWarning: overflow encountered in double_scalars\n",
      "  db = -2 * self.b*(y_batch - Y_pred).sum() / self.m\n",
      "C:\\Users\\dimweb\\AppData\\Local\\Temp\\ipykernel_15272\\3648896529.py:55: RuntimeWarning: invalid value encountered in add\n",
      "  return X @ self.W + self.b\n"
     ]
    },
    {
     "data": {
      "text/plain": [
       "array([[nan]])"
      ]
     },
     "execution_count": 396,
     "metadata": {},
     "output_type": "execute_result"
    }
   ],
   "source": [
    "class MyLinearRegression:\n",
    "    def __init__(self, learning_rate=0.1, iterations=10):\n",
    "        self.learning_rate = learning_rate\n",
    "        self.iterations = iterations\n",
    "\n",
    "    def fit(self, X, y):\n",
    "\n",
    "        # no_of_training_examples, no_of_features\n",
    "        self.m = X.shape[0]\n",
    "        self.n = X.shape[1]\n",
    "\n",
    "        # weight initialization\n",
    "        self.W = np.ones((self.n, 1))\n",
    "        self.b = 1\n",
    "        self.X = np.array(X)\n",
    "        self.y = np.array(y)\n",
    "\n",
    "        # gradient descent learning\n",
    "        for _ in range(self.iterations):\n",
    "            # self.update_weights()\n",
    "            self.update_weights_v2()\n",
    "        print(self.W)\n",
    "\n",
    "    def update_weights(self):\n",
    "\n",
    "        # calculate gradients\n",
    "        Y_pred = self.predict(self.X) / self.m\n",
    "        Y_pred = Y_pred.reshape(self.Y.shape)\n",
    "        # print(Y_pred.shape)\n",
    "        dW = -2 * self.X.T @ (self.Y - Y_pred) / self.m\n",
    "        db = -2 * (self.Y - Y_pred).sum() / self.m\n",
    "        # print(self.W, db)\n",
    "        # print(dW, self.X.T.shape, self.Y.shape, (self.X.T.dot(self.Y - Y_pred)).shape)\n",
    "        # print(db)\n",
    "        self.W -= self.learning_rate * dW\n",
    "        self.b -= self.learning_rate * db\n",
    "\n",
    "    def update_weights_v2(self):\n",
    "        batch_size = 2\n",
    "        for batch in range(len(self.X) // batch_size):\n",
    "            start = batch * batch_size\n",
    "            stop = (batch * batch_size) + batch_size\n",
    "\n",
    "            X_batch = self.X[start:stop]\n",
    "            y_batch = self.y[start:stop]\n",
    "\n",
    "            Y_pred = self.predict(X_batch)\n",
    "            dW = -2 * X_batch.T @ (y_batch - Y_pred) / self.m\n",
    "            db = -2 * self.b*(y_batch - Y_pred).sum() / self.m\n",
    "    \n",
    "            self.W -= self.learning_rate * dW\n",
    "            self.b -= self.learning_rate * db\n",
    "\n",
    "    def predict(self, X):\n",
    "        return X @ self.W + self.b\n",
    "\n",
    "\n",
    "model = MyLinearRegression(iterations=1, learning_rate=0.0001)\n",
    "model.fit(X, y)\n",
    "model.W"
   ]
  },
  {
   "cell_type": "code",
   "execution_count": 408,
   "metadata": {},
   "outputs": [
    {
     "name": "stdout",
     "output_type": "stream",
     "text": [
      "[[0.72743273]]\n",
      "[[0.75930128]]\n",
      "[[0.77709863]]\n",
      "[[0.8259135]]\n",
      "[[0.58205059]]\n",
      "1.1748654567186834\n"
     ]
    }
   ],
   "source": [
    "scores = k_fold_validation(\n",
    "    model_class=MyLinearRegression,\n",
    "    X=X,\n",
    "    y=y,\n",
    "    cv=5,\n",
    "    model_params={\n",
    "        \"learning_rate\": 0.01, \n",
    "        \"iterations\": 55\n",
    "    }\n",
    ")\n",
    "\n",
    "print(scores)"
   ]
  },
  {
   "cell_type": "code",
   "execution_count": null,
   "metadata": {},
   "outputs": [],
   "source": [
    "cur_x = 3  # The algorithm starts at x=3\n",
    "rate = 0.01  # Learning rate\n",
    "precision = 0.000001  # This tells us when to stop the algorithm\n",
    "previous_step_size = 1  #\n",
    "max_iters = 10000  # maximum number of iterations\n",
    "iters = 0  # iteration counter\n",
    "df = lambda x: 2 * (x + 5)  # Gradient of our function\n",
    "\n",
    "while previous_step_size > precision and iters < max_iters:\n",
    "    prev_x = cur_x  # Store current x value in prev_x\n",
    "    cur_x = cur_x - rate * df(prev_x)  # Grad descent\n",
    "    previous_step_size = abs(cur_x - prev_x)  # Change in x\n",
    "    iters = iters + 1  # iteration count\n",
    "    print(\"Iteration\", iters, \"\\nX value is\", cur_x)  # Print iterations\n",
    "\n",
    "print(\"The local minimum occurs at\", cur_x)"
   ]
  },
  {
   "cell_type": "code",
   "execution_count": 58,
   "metadata": {},
   "outputs": [
    {
     "data": {
      "text/plain": [
       "(array([2.87081828e+44]),\n",
       " array([5.19900253e+46, 5.41859602e+46, 7.02770229e+46, 7.17436666e+46,\n",
       "        9.18187362e+46, 9.92618895e+46, 1.03718576e+47, 1.09789232e+47,\n",
       "        1.19038377e+47, 1.48505828e+47, 1.56144937e+47, 1.71483054e+47,\n",
       "        1.86520193e+47, 2.02928590e+47, 2.12698301e+47, 2.16316192e+47,\n",
       "        2.30277705e+47, 2.35387067e+47, 2.40999384e+47, 2.48796372e+47,\n",
       "        2.50353239e+47, 2.51047495e+47, 2.51315383e+47, 2.86313976e+47,\n",
       "        2.91988533e+47, 2.92604507e+47, 2.94837309e+47, 2.99220595e+47,\n",
       "        3.20413200e+47]))"
      ]
     },
     "execution_count": 58,
     "metadata": {},
     "output_type": "execute_result"
    }
   ],
   "source": [
    "W = np.ones(X.shape[1])\n",
    "b = 0\n",
    "\n",
    "reg = lambda x: x @ W + b\n",
    "cost_func = lambda x: (y - reg(x)) ** 2\n",
    "dW_cost_func = lambda x: 2*x.T@(y - reg(x))\n",
    "db_cost_func = lambda x: 2*(y - reg(x))\n",
    "lr = 0.01\n",
    "steps = 5\n",
    "for i in range(steps):\n",
    "\tW -= lr * dW_cost_func(X)\n",
    "\tb -= lr * db_cost_func(X)\n",
    "\n",
    "W, b"
   ]
  },
  {
   "cell_type": "code",
   "execution_count": 170,
   "metadata": {},
   "outputs": [
    {
     "data": {
      "text/plain": [
       "((29, 1), (29, 1))"
      ]
     },
     "execution_count": 170,
     "metadata": {},
     "output_type": "execute_result"
    }
   ],
   "source": [
    "import numpy as np\n",
    "\n",
    "X_0 = np.random.rand(29,1)\n",
    "m = np.random.randint(low = 1, high = 20,size = (1,1))  #parametri random tra low e high\n",
    "q = np.random.rand(1)\n",
    "y_0 = (X_0 @ m) + q \n",
    "\n",
    "noise = np.random.randn(y.shape[0], y.shape[1])\n",
    "y = y + noise\n",
    "\n",
    "X_0.shape, y_0.shape\n",
    "\n"
   ]
  },
  {
   "cell_type": "code",
   "execution_count": 263,
   "metadata": {},
   "outputs": [
    {
     "data": {
      "text/plain": [
       "1.7151663672154736"
      ]
     },
     "execution_count": 263,
     "metadata": {},
     "output_type": "execute_result"
    }
   ],
   "source": [
    "scores = k_fold_validation(\n",
    "    model_class=MyLinearRegression,\n",
    "    X=X,\n",
    "    y=y,\n",
    "    cv=5,\n",
    "    model_params={\n",
    "        \"learning_rate\": 0.01, \n",
    "        \"iterations\": 16\n",
    "    }\n",
    ")\n",
    "scores"
   ]
  },
  {
   "cell_type": "code",
   "execution_count": 74,
   "metadata": {},
   "outputs": [],
   "source": [
    "def partial_derivative(X_batch, y_batch, m_stat):\n",
    "\n",
    "  y_pred = X_batch @ m_stat\n",
    "  n = len(X_batch)\n",
    "\n",
    "  df_dm =  (-2/n) * (X_batch.T @ (y_batch - y_pred))\n",
    "  df_dm = df_dm.reshape(len(df_dm),-1)\n",
    "\n",
    "  return df_dm"
   ]
  },
  {
   "cell_type": "code",
   "execution_count": 92,
   "metadata": {},
   "outputs": [],
   "source": [
    "def custom_mean_squared_error(X,y,m_stat):\n",
    "  y_pred = X @ m_stat\n",
    "  mse = np.sum(((y_pred - y)**2),axis = 0) / len(X)\n",
    "  \n",
    "  return mse"
   ]
  },
  {
   "cell_type": "code",
   "execution_count": 93,
   "metadata": {},
   "outputs": [],
   "source": [
    "def training(X, y, batch_size, lr, epochs):\n",
    "  \n",
    "  for epoch in range(epochs):\n",
    "\n",
    "    #random initial statistics\n",
    "    if epoch == 0:\n",
    "      m_stat = np.random.rand(X.shape[1],1)\n",
    "\n",
    "    #shuffle X and y using same permutation\n",
    "    indices = np.arange(X.shape[0])\n",
    "    np.random.shuffle(indices)\n",
    "\n",
    "    X = X[indices]\n",
    "    y = y[indices]\n",
    "\n",
    "    #store comulative derivative\n",
    "    cumulative_derivative = np.zeros((X.shape[1],1))\n",
    "\n",
    "    for batch in range(len(X)//batch_size):\n",
    "      start = batch*batch_size\n",
    "      stop = (batch*batch_size) + batch_size\n",
    "\n",
    "      X_batch = X[start:stop]\n",
    "      y_batch = y[start:stop]\n",
    "      \n",
    "      #derivative\n",
    "      cumulative_derivative = cumulative_derivative + partial_derivative(X_batch, y_batch, m_stat)\n",
    "\n",
    "      #updating rule\n",
    "      m_stat = m_stat - (lr*cumulative_derivative)\n",
    "    \n",
    "    print(f\"epoch: {epoch} ----> MSE: {custom_mean_squared_error(X,y,m_stat)}\")\n",
    "      \n",
    "  return m_stat"
   ]
  },
  {
   "cell_type": "code",
   "execution_count": 109,
   "metadata": {},
   "outputs": [
    {
     "name": "stdout",
     "output_type": "stream",
     "text": [
      "epoch: 0 ----> MSE: [2.19965704e+38]\n",
      "epoch: 1 ----> MSE: [8.79607695e+67]\n",
      "epoch: 2 ----> MSE: [2.74976568e+97]\n",
      "epoch: 3 ----> MSE: [1.39853423e+127]\n"
     ]
    }
   ],
   "source": [
    "batch_size = 10\n",
    "lr = 0.01\n",
    "epochs = 4\n",
    "\n",
    "m_stat = training(X, y, batch_size, lr, epochs)"
   ]
  },
  {
   "cell_type": "code",
   "execution_count": 106,
   "metadata": {},
   "outputs": [
    {
     "name": "stdout",
     "output_type": "stream",
     "text": [
      "epoch: 0 ----> MSE: [38.44501756]\n",
      "epoch: 1 ----> MSE: [8.11515413]\n",
      "epoch: 2 ----> MSE: [3.41248788]\n",
      "epoch: 3 ----> MSE: [1.79261385]\n",
      "epoch: 4 ----> MSE: [0.77074466]\n",
      "epoch: 5 ----> MSE: [0.15865555]\n",
      "epoch: 6 ----> MSE: [0.13618797]\n",
      "epoch: 7 ----> MSE: [0.11733463]\n",
      "epoch: 8 ----> MSE: [0.11290029]\n",
      "epoch: 9 ----> MSE: [0.1120361]\n"
     ]
    }
   ],
   "source": [
    "batch_size = 4\n",
    "lr = 0.1\n",
    "epochs = 10\n",
    "\n",
    "m_stat = training(X_0,y_0, batch_size,lr,epochs)"
   ]
  },
  {
   "cell_type": "code",
   "execution_count": null,
   "metadata": {},
   "outputs": [],
   "source": []
  }
 ],
 "metadata": {
  "kernelspec": {
   "display_name": "Python 3 (ipykernel)",
   "language": "python",
   "name": "python3"
  },
  "language_info": {
   "codemirror_mode": {
    "name": "ipython",
    "version": 3
   },
   "file_extension": ".py",
   "mimetype": "text/x-python",
   "name": "python",
   "nbconvert_exporter": "python",
   "pygments_lexer": "ipython3",
   "version": "3.10.2"
  }
 },
 "nbformat": 4,
 "nbformat_minor": 1
}
