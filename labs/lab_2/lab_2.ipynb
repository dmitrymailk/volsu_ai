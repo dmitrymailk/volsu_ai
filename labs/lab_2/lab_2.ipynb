{
 "cells": [
  {
   "cell_type": "markdown",
   "metadata": {},
   "source": [
    "# Naive Bayes from scratch"
   ]
  },
  {
   "cell_type": "code",
   "execution_count": 120,
   "metadata": {},
   "outputs": [],
   "source": [
    "import numpy as np\n",
    "import pandas as pd\n",
    "import matplotlib.pyplot as plt\n",
    "import seaborn as sns\n",
    "from sklearn.naive_bayes import GaussianNB, MultinomialNB\n",
    "from sklearn.metrics import accuracy_score\n",
    "from sklearn.metrics import make_scorer\n",
    "from sklearn.metrics import confusion_matrix\n",
    "\n",
    "# pytorch\n",
    "import torch\n",
    "import torchvision\n",
    "import torch.nn as nn\n",
    "\n",
    "from torch.utils.data import DataLoader, random_split, Dataset\n",
    "\n",
    "# train utils\n",
    "from sklearn.model_selection import cross_val_score\n",
    "from sklearn.model_selection import KFold\n",
    "\n",
    "# preprocessing\n",
    "from sklearn.preprocessing import StandardScaler\n",
    "from sklearn.pipeline import Pipeline\n",
    "from sklearn.decomposition import PCA"
   ]
  },
  {
   "cell_type": "markdown",
   "metadata": {},
   "source": [
    "## Задание\n",
    "### Оригинал\n",
    "\n",
    "Добрый день. Следующая вторая лаба - Наивный Байесовский классификатор (на номер не смотрите, это порядковый номер, в котором я делал лабы сам). В качестве датасета используйте Fashion-MNIST (он есть в качестве встроенного в библиотеке scikit-learn, да и в других тоже имеется). Постарайтесь добиться точности хотя бы в 75%, хотя желательно все-таки свыше 80%. Данные крутите, как хотите, но максимальную точность классификации обеспечьте\n",
    "\n",
    "- [доп материал с разьяснениями](./lab_task_materials/Lab_4_ML.docx)\n",
    "\n",
    "### Переделано\n",
    "\n",
    "- Наивный Байесовский классификатор\n",
    "- В качестве датасета используйте Fashion-MNIST\n",
    "- Точность 75%-80%"
   ]
  },
  {
   "cell_type": "markdown",
   "metadata": {},
   "source": [
    "## Предварительные знания\n",
    "\n",
    "### [Bayes' theorem](https://en.wikipedia.org/wiki/Bayes%27_theorem)\n",
    "\n",
    "P(A | B) = P(B | A)*P(A) / P(B)\n",
    "- P(A | B) is a conditional probability: the probability of event A occurring given that B is true. It is also called the **posterior probability** of A given B.\n",
    "- P(B | A) is also a conditional probability: the probability of event B occurring given that A is true. It can also be interpreted as the **likelihood** of A given a fixed B.\n",
    "- P(A) and P(B) are the probabilities of observing A and B respectively without any given conditions; they are known as the **marginal probability** or **prior probability**.\n"
   ]
  },
  {
   "cell_type": "markdown",
   "metadata": {},
   "source": [
    "## Импортируем данные"
   ]
  },
  {
   "cell_type": "markdown",
   "metadata": {},
   "source": [
    "### Import Fashion mnist"
   ]
  },
  {
   "cell_type": "code",
   "execution_count": 2,
   "metadata": {},
   "outputs": [],
   "source": [
    "train_set = torchvision.datasets.FashionMNIST(\n",
    "    root = './data/FashionMNIST',\n",
    "    # train = True,\n",
    "    # download = True,\n",
    "    # transform = torchvision.transforms.Compose([\n",
    "    #     torchvision.transforms.ToTensor()                                 \n",
    "    # ])\n",
    ")"
   ]
  },
  {
   "cell_type": "code",
   "execution_count": 3,
   "metadata": {},
   "outputs": [
    {
     "data": {
      "text/plain": [
       "torch.Size([60000, 28, 28])"
      ]
     },
     "execution_count": 3,
     "metadata": {},
     "output_type": "execute_result"
    }
   ],
   "source": [
    "train_set.data.shape"
   ]
  },
  {
   "cell_type": "code",
   "execution_count": 4,
   "metadata": {},
   "outputs": [
    {
     "data": {
      "image/png": "[encoded data removed]",
      "text/plain": [
       "<Figure size 432x288 with 1 Axes>"
      ]
     },
     "metadata": {
      "needs_background": "light"
     },
     "output_type": "display_data"
    },
    {
     "data": {
      "image/png": "[encoded data removed]",
      "text/plain": [
       "<Figure size 432x288 with 1 Axes>"
      ]
     },
     "metadata": {
      "needs_background": "light"
     },
     "output_type": "display_data"
    },
    {
     "data": {
      "image/png": "[encoded data removed]",
      "text/plain": [
       "<Figure size 432x288 with 1 Axes>"
      ]
     },
     "metadata": {
      "needs_background": "light"
     },
     "output_type": "display_data"
    }
   ],
   "source": [
    "for image_data in train_set.data[:3]:\n",
    "\tplt.imshow(image_data, cmap=\"gray\")\n",
    "\tplt.show()"
   ]
  },
  {
   "cell_type": "code",
   "execution_count": 28,
   "metadata": {},
   "outputs": [],
   "source": [
    "X = train_set.data.numpy()\n",
    "y = train_set.targets.numpy()"
   ]
  },
  {
   "cell_type": "code",
   "execution_count": 29,
   "metadata": {},
   "outputs": [
    {
     "data": {
      "text/plain": [
       "(60000, 28, 28)"
      ]
     },
     "execution_count": 29,
     "metadata": {},
     "output_type": "execute_result"
    }
   ],
   "source": [
    "X.shape"
   ]
  },
  {
   "cell_type": "code",
   "execution_count": 30,
   "metadata": {},
   "outputs": [
    {
     "data": {
      "text/plain": [
       "(60000, 784)"
      ]
     },
     "execution_count": 30,
     "metadata": {},
     "output_type": "execute_result"
    }
   ],
   "source": [
    "X = X.reshape(X.shape[0], X.shape[1]**2)\n",
    "X.shape"
   ]
  },
  {
   "cell_type": "markdown",
   "metadata": {},
   "source": [
    "## Sklearn Naive Bayes"
   ]
  },
  {
   "cell_type": "code",
   "execution_count": 31,
   "metadata": {},
   "outputs": [],
   "source": [
    "model = GaussianNB()\n",
    "scores = cross_val_score(model, X, y, cv=5, n_jobs=-1, scoring=make_scorer(accuracy_score))"
   ]
  },
  {
   "cell_type": "code",
   "execution_count": 33,
   "metadata": {},
   "outputs": [
    {
     "name": "stdout",
     "output_type": "stream",
     "text": [
      "0.58995\n"
     ]
    }
   ],
   "source": [
    "print(scores.mean())"
   ]
  },
  {
   "cell_type": "markdown",
   "metadata": {},
   "source": [
    "Дефолтный результат показывает точность около 58%. Попробуем преобразовать данные"
   ]
  },
  {
   "cell_type": "code",
   "execution_count": 49,
   "metadata": {},
   "outputs": [],
   "source": [
    "def k_fold_validation(\n",
    "\t\tmodel_class, \n",
    "\t\tX, \n",
    "\t\ty, \n",
    "\t\tcv=5, \n",
    "\t\tmodel_params=None, \n",
    "\t\tmetric=None, \n",
    "\t\tis_norm=True\n",
    "\t):\n",
    "\tassert metric != None, 'Metric should be not a None'\n",
    "\tif model_params == None:\n",
    "\t\tmodel_params = {}\n",
    "\t\n",
    "\tk_fold = KFold(n_splits=cv)\n",
    "\tk_fold.get_n_splits(X)\n",
    "\n",
    "\tscores = []\n",
    "\tfor train_index, test_index in k_fold.split(X):\n",
    "\t\tmodel = model_class(**model_params)\n",
    "\t\tX_train, X_test = X[train_index], X[test_index]\n",
    "\t\ty_train, y_test = y[train_index], y[test_index]\n",
    "\t\t\n",
    "\t\tif is_norm:\n",
    "\t\t\t# normalize data\n",
    "\t\t\tscaler = StandardScaler()\n",
    "\t\t\tscaler.fit(X_train)\n",
    "\t\t\tX_train = scaler.transform(X_train)\n",
    "\t\t\tX_test = scaler.transform(X_test)\n",
    "\t\t\n",
    "\t\tmodel.fit(X_train, y_train)\n",
    "\t\tpred = model.predict(X_test)\n",
    "\t\tresult = metric(y_test, pred)\n",
    "\t\tscores.append(result)\n",
    "\n",
    "\tscores = np.array(scores).mean()\n",
    "\n",
    "\treturn scores"
   ]
  },
  {
   "cell_type": "code",
   "execution_count": 50,
   "metadata": {},
   "outputs": [
    {
     "name": "stdout",
     "output_type": "stream",
     "text": [
      "GaussianNB Mean Error = 0.5904666666666667\n"
     ]
    }
   ],
   "source": [
    "scores = k_fold_validation(\n",
    "\tGaussianNB, \n",
    "\tX, \n",
    "\ty, \n",
    "\tcv=5, \n",
    "\tmodel_params=None, \n",
    "\tmetric=accuracy_score,\n",
    "\tis_norm=False\n",
    ")\n",
    "print(f\"GaussianNB Mean Error = {scores}\")"
   ]
  },
  {
   "cell_type": "markdown",
   "metadata": {},
   "source": [
    "Так как Fashion mnist это картинки, то глупо анализировать \"сырые\" данные такой моделью как GaussianNB.\n",
    "Для начала нам необходимо сократить размерность этих данных."
   ]
  },
  {
   "cell_type": "markdown",
   "metadata": {},
   "source": [
    "## PCA"
   ]
  },
  {
   "cell_type": "code",
   "execution_count": 73,
   "metadata": {},
   "outputs": [
    {
     "name": "stdout",
     "output_type": "stream",
     "text": [
      "GaussianNB Mean Error = 0.7778833333333333\n"
     ]
    }
   ],
   "source": [
    "model = lambda : Pipeline([('PCA', PCA(n_components=60)), ('GaussianNB', GaussianNB())])\n",
    "scores = k_fold_validation(\n",
    "\tmodel, \n",
    "\tX, \n",
    "\ty, \n",
    "\tcv=5, \n",
    "\tmodel_params=None, \n",
    "\tmetric=accuracy_score,\n",
    "\tis_norm=False\n",
    ")\n",
    "print(f\"GaussianNB Mean Error = {scores}\")"
   ]
  },
  {
   "cell_type": "markdown",
   "metadata": {},
   "source": [
    "Как можно заметить простое сокращение размерности принесло существенный прирост в точности.\n",
    "Теперь попробуем использовать более разумный подход. Попытаемся сформировать выразительные эмбединги при помощи сверточных нейронных сетей, а затем скормить эти эмбединги нашему наивному байесу."
   ]
  },
  {
   "cell_type": "markdown",
   "metadata": {},
   "source": [
    "## Create dataloaders"
   ]
  },
  {
   "cell_type": "code",
   "execution_count": 175,
   "metadata": {},
   "outputs": [],
   "source": [
    "dataset_train = torchvision.datasets.FashionMNIST(\n",
    "    root = './data/FashionMNIST',\n",
    "    train = True,\n",
    "    download = True,\n",
    "    transform = torchvision.transforms.Compose([\n",
    "        torchvision.transforms.ToTensor()                                 \n",
    "    ])\n",
    ")\n",
    "dataset_test = torchvision.datasets.FashionMNIST(\n",
    "    root = './data/FashionMNIST',\n",
    "    train = False,\n",
    "    download = True,\n",
    "    transform = torchvision.transforms.Compose([\n",
    "        torchvision.transforms.ToTensor()                                 \n",
    "    ])\n",
    ")\n",
    "\n",
    "class FashionMNISTDataset(Dataset):\n",
    "    def __init__(self,\n",
    "            transform=None, \n",
    "            target_transform=None,\n",
    "            initial_dataset=None,\n",
    "        ):\n",
    "\n",
    "        super().__init__()\n",
    "        self.initial_dataset = initial_dataset\n",
    "        self.transform = transform\n",
    "        self.target_transform = target_transform\n",
    "\n",
    "    def __getitem__(self, index: int):\n",
    "        img = self.initial_dataset.data[index].type(torch.float32).reshape(1, 28, 28)\n",
    "        target = self.initial_dataset.targets[index]\n",
    "        \n",
    "        if self.transform is not None:\n",
    "            img = self.transform(img)\n",
    "        return img, target\n",
    "\n",
    "    def __len__(self):\n",
    "        return len(self.initial_dataset)\n",
    "\n",
    "train_data = FashionMNISTDataset(initial_dataset=dataset_train)\n",
    "test_data = FashionMNISTDataset(initial_dataset=dataset_test)\n",
    "\n",
    "train_data, val_data = torch.utils.data.random_split(\n",
    "    train_data, \n",
    "    [50000, 10000], \n",
    "    generator=torch.Generator().manual_seed(228),\n",
    ")\n",
    "batch_size = 8\n",
    "train_dataloader = DataLoader(train_data, batch_size=batch_size, shuffle=True)\n",
    "val_dataloader = DataLoader(val_data, batch_size=batch_size, )\n",
    "test_dataloader = DataLoader(test_data, batch_size=batch_size,)\n"
   ]
  },
  {
   "cell_type": "code",
   "execution_count": 191,
   "metadata": {},
   "outputs": [],
   "source": [
    "import torch\n",
    "import wandb\n",
    "from datetime import datetime\n",
    "import shutil\n",
    "import os\n",
    "from importlib.machinery import SourceFileLoader\n",
    "import importlib\n",
    "\n",
    "\n",
    "class BaseExperiment:\n",
    "    def __init__(\n",
    "        self,\n",
    "        model=None,\n",
    "        dataloader_train=None,\n",
    "        dataloader_valid=None,\n",
    "        dataloader_test=None,\n",
    "        loss_func_class=None,\n",
    "        estimate_func_class=None,\n",
    "        experiment_config=None,\n",
    "        optimizer_class=None,\n",
    "        sheduler_class=None,\n",
    "        project_name=None,\n",
    "        notebook_name=None,\n",
    "        name_run=\"\",\n",
    "        model_description=\"\",\n",
    "    ):\n",
    "        assert (\n",
    "            notebook_name != None\n",
    "        ), f\"notebook_name should be valid filename, but get {notebook_name}\"\n",
    "\n",
    "        # datasets\n",
    "        self.dataloader_train = dataloader_train\n",
    "        self.dataloader_valid = dataloader_valid\n",
    "        self.dataloader_test = dataloader_test\n",
    "\n",
    "        # wandb\n",
    "        self.notebook_name = notebook_name\n",
    "        self.project_name = project_name\n",
    "        self.experiment_config = experiment_config\n",
    "        self.wandb_run = None\n",
    "        self.name_run = name_run\n",
    "        self.model_description = model_description\n",
    "        self.model_name = \"pytorch_model\"\n",
    "        self.model_artifact = None\n",
    "\n",
    "        self.optimizer_class = optimizer_class\n",
    "        self.sheduler_class = sheduler_class\n",
    "        self.loss_func_class = loss_func_class\n",
    "        self.estimate_func_class = estimate_func_class\n",
    "\n",
    "        self.model = model\n",
    "        self.optimizer = None\n",
    "        self.sheduler = None\n",
    "        self.loss_func = None\n",
    "        self.estimate_func = None\n",
    "        self.device = torch.device(\"cuda\" if torch.cuda.is_available() else \"cpu\")\n",
    "        print(f\"Using device {self.device}\")\n",
    "\n",
    "        # prepare for experiment\n",
    "        self.setup()\n",
    "        self.unit_tests()\n",
    "\n",
    "    def setup(self):\n",
    "        self.model.to(self.device)\n",
    "        self.optimizer = self.optimizer_class(\n",
    "            self.model.parameters(), **self.experiment_config[\"optimizer\"]\n",
    "        )\n",
    "\n",
    "        if self.sheduler_class != None:\n",
    "            self.sheduler = self.sheduler_class(\n",
    "                self.optimizer, **self.experiment_config[\"sheduler\"]\n",
    "            )\n",
    "\n",
    "        self.loss_func = self.loss_func_class()\n",
    "        self.estimate_func = self.estimate_func_class()\n",
    "\n",
    "        # set model name\n",
    "        date_time = self.get_date()\n",
    "        self.model_name = f\"{self.name_run}---{date_time}.pt\"\n",
    "        self.experiment_config[\"model_name\"] = self.model_name\n",
    "\n",
    "        # setup wandb\n",
    "        # save model structure and weights to wandb\n",
    "        self.model_artifact = wandb.Artifact(\n",
    "            self.name_run,\n",
    "            type=\"model\",\n",
    "            description=self.model_description,\n",
    "            metadata=self.experiment_config,\n",
    "        )\n",
    "\n",
    "    def get_date(self):\n",
    "        now = datetime.now()\n",
    "        date_time = now.strftime(\"%m_%d_%Y__%H_%M_%S\")\n",
    "        return date_time\n",
    "\n",
    "    def unit_tests(self):\n",
    "        # test training\n",
    "        X, y = next(iter(self.dataloader_train))\n",
    "        X, y = X.to(self.device), y.to(self.device)\n",
    "        pred = self.model(X)\n",
    "        loss = self.loss_func(pred, y)\n",
    "        self.optimizer.zero_grad()\n",
    "        loss.backward()\n",
    "        self.optimizer.step()\n",
    "\n",
    "        # test valid\n",
    "        X, y = next(iter(self.dataloader_valid))\n",
    "        X, y = X.to(self.device), y.to(self.device)\n",
    "        pred = self.model(X)\n",
    "        test_loss = self.estimate_func(pred, y).item()\n",
    "        correct = (pred.argmax(1) == y).type(torch.float).sum().item()\n",
    "\n",
    "        # initial validation\n",
    "        self.model.eval()\n",
    "        test_loss, correct = 0, 0\n",
    "        num_batches = len(self.dataloader_valid)\n",
    "        size = len(self.dataloader_valid.dataset)\n",
    "\n",
    "        with torch.no_grad():\n",
    "            for X, y in self.dataloader_valid:\n",
    "                X, y = X.to(self.device), y.to(self.device)\n",
    "                pred = self.model(X)\n",
    "                test_loss += self.estimate_func(pred, y).item()\n",
    "                correct += (pred.argmax(1) == y).type(torch.float).sum().item()\n",
    "\n",
    "        test_loss /= num_batches\n",
    "        correct /= size\n",
    "        print(\"Initial val = \", correct)\n",
    "\n",
    "        print(\"tests ok\")\n",
    "\n",
    "    def train(self):\n",
    "        # https://colab.research.google.com/github/wandb/examples/blob/master/colabs/wandb-artifacts/Pipeline_Versioning_with_W%26B_Artifacts.ipynb#scrollTo=qrAWbBV1rd4I\n",
    "        # если попытаться создать переменную чтобы не городить тут код возникает ошибка с wandb!\n",
    "        with wandb.init(\n",
    "            project=self.project_name,\n",
    "            entity=\"dimweb\",\n",
    "            settings=wandb.Settings(\n",
    "                start_method=\"thread\",\n",
    "                # symlink=False\n",
    "            ),\n",
    "            reinit=True,\n",
    "            name=self.name_run,\n",
    "            config=self.experiment_config,\n",
    "            # sync_tensorboard=True\n",
    "        ) as run:\n",
    "\n",
    "            self.run = run\n",
    "\n",
    "            # save model class\n",
    "            self.save_model_class()\n",
    "\n",
    "            # start train\n",
    "            epochs = self.experiment_config[\"epochs\"]\n",
    "            for i in range(epochs):\n",
    "                print(f\"Epoch: {i}\")\n",
    "                self.train_steps()\n",
    "                self.valid_steps()\n",
    "\n",
    "            # sync model\n",
    "            self.wandb_save_model()\n",
    "\n",
    "            print(f\"train end\")\n",
    "\n",
    "    def save_model_class(self):\n",
    "        # save class\n",
    "        model_class_name = self.experiment_config[\"model_class_name\"]\n",
    "        class_script_path_dest = f\"{os.path.join(wandb.run.dir, model_class_name)}.py\"\n",
    "        class_script_path_src = f\"./models/{model_class_name}.py\"\n",
    "        shutil.copy2(class_script_path_src, class_script_path_dest)\n",
    "        self.model_artifact.add_file(class_script_path_dest)\n",
    "        wandb.save(class_script_path_dest)\n",
    "\n",
    "    def wandb_save_model(self):\n",
    "        # wandb использует symlinks для того чтобы сохранять файлы\n",
    "        # но из-за проблем с правами доступа возникает ошибка и модель нельзя сохранить\n",
    "        # поэтому пришлось сохранять модель в дирректорию с самим запуском\n",
    "        # https://docs.wandb.ai/guides/track/advanced/save-restore#example-of-saving-a-file-to-the-wandb-run-directory\n",
    "        model_save_path = os.path.join(wandb.run.dir, self.model_name)\n",
    "        torch.save(self.model.state_dict(), model_save_path)\n",
    "        self.model_artifact.add_file(model_save_path)\n",
    "        wandb.save(model_save_path)\n",
    "\n",
    "        # save notebook\n",
    "        notebook_path = os.path.join(wandb.run.dir, self.notebook_name)\n",
    "        shutil.copy2(self.notebook_name, notebook_path)\n",
    "        self.model_artifact.add_file(notebook_path)\n",
    "        wandb.save(notebook_path)\n",
    "\n",
    "        wandb.log_artifact(self.model_artifact)\n",
    "\n",
    "    def train_steps(self):\n",
    "        raise NotImplementedError(\"You need specify training steps\")\n",
    "\n",
    "    def valid_steps(self):\n",
    "        raise NotImplementedError(\"You need specify valid steps\")\n",
    "\n",
    "    def load_model(self, artifact_name, additional_model_args={}):\n",
    "        assert artifact_name != \"\"\n",
    "        # for windows subsystem\n",
    "\n",
    "        with wandb.init(project=self.project_name, job_type=\"inference\"):\n",
    "            model_artifact = wandb.use_artifact(artifact_name)\n",
    "            model_dir = model_artifact.download()\n",
    "            model_config = model_artifact.metadata\n",
    "            model_path = os.path.join(model_dir, model_config[\"model_name\"])\n",
    "            # print(model_config)\n",
    "\n",
    "            artifact_name = artifact_name.replace(\":\", \"-\")\n",
    "            model_class_name = model_config[\"model_class_name\"]\n",
    "            model_script_path = f\"./artifacts/{artifact_name}/{model_class_name}.py\"\n",
    "            # get module by path https://stackoverflow.com/questions/67631/how-to-import-a-module-given-the-full-path?rq=1\n",
    "            model_class = getattr(\n",
    "                SourceFileLoader(model_class_name, model_script_path).load_module(),\n",
    "                model_class_name,\n",
    "            )\n",
    "\n",
    "            model_args = model_config[\"model_args\"]\n",
    "            model = model_class(**model_args, **additional_model_args)\n",
    "\n",
    "            model.load_state_dict(torch.load(model_path))\n",
    "            self.model = model\n",
    "            self.model.to(self.device)\n",
    "\n",
    "    @staticmethod\n",
    "    def static_load_model(artifact_name=\"\", project_name=\"\", additional_model_args={}):\n",
    "        assert artifact_name != \"\"\n",
    "        assert project_name != \"\"\n",
    "        with wandb.init(project=project_name, job_type=\"inference\"):\n",
    "            model_artifact = wandb.use_artifact(artifact_name)\n",
    "            model_dir = model_artifact.download()\n",
    "            model_config = model_artifact.metadata\n",
    "            model_path = os.path.join(model_dir, model_config[\"model_name\"])\n",
    "\n",
    "            model_class_name = model_config[\"model_class_name\"]\n",
    "            model_script_path = f\"./artifacts/{artifact_name}/{model_class_name}.py\"\n",
    "            model_class = getattr(\n",
    "                SourceFileLoader(model_class_name, model_script_path).load_module(),\n",
    "                model_class_name,\n",
    "            )\n",
    "\n",
    "            model_args = model_config[\"model_args\"]\n",
    "            model = model_class(**model_args, **additional_model_args)\n",
    "            device = torch.device(\"cuda\" if torch.cuda.is_available() else \"cpu\")\n",
    "            model.to(device)\n",
    "            model.load_state_dict(torch.load(model_path))\n",
    "\n",
    "            return model\n",
    "\n",
    "    def test(self, artifact_name=\"\", model=None):\n",
    "        raise NotImplementedError(\"You need specify test steps\")\n",
    "\n",
    "\n",
    "class Experiment(BaseExperiment):\n",
    "    def __init__(self, **kwargs):\n",
    "        super(Experiment, self).__init__(**kwargs)\n",
    "\n",
    "    def train_steps(self):\n",
    "        self.model.train()\n",
    "        interval = self.experiment_config[\"check_interval\"]\n",
    "\n",
    "        for batch, (X, y) in enumerate(self.dataloader_train):\n",
    "            # Send data to training device\n",
    "            X, y = X.to(self.device), y.to(self.device)\n",
    "\n",
    "            # Compute prediction error\n",
    "            pred = self.model(X)\n",
    "            loss = self.loss_func(pred, y)\n",
    "\n",
    "            # Backpropagation\n",
    "            self.optimizer.zero_grad()\n",
    "            loss.backward()\n",
    "            self.optimizer.step()\n",
    "\n",
    "            if self.sheduler != None:\n",
    "                self.sheduler.step()\n",
    "\n",
    "            # Progress output\n",
    "            if batch % interval == 0:\n",
    "                wandb.log({\"train_loss\": loss.item()})\n",
    "\n",
    "    def valid_steps(self):\n",
    "        self.model.eval()\n",
    "        test_loss, correct = 0, 0\n",
    "        num_batches = len(self.dataloader_valid)\n",
    "        size = len(self.dataloader_valid.dataset)\n",
    "\n",
    "        with torch.no_grad():\n",
    "            for X, y in self.dataloader_valid:\n",
    "                X, y = X.to(self.device), y.to(self.device)\n",
    "                pred = self.model(X)\n",
    "                test_loss += self.estimate_func(pred, y).item()\n",
    "                correct += (pred.argmax(1) == y).type(torch.float).sum().item()\n",
    "\n",
    "        test_loss /= num_batches\n",
    "        correct /= size\n",
    "\n",
    "        wandb.log({\"val_loss\": test_loss})\n",
    "        wandb.log({\"val_acc\": correct})\n",
    "\n",
    "    def test(self, artifact_name=\"\", model=None):\n",
    "        if model is None:\n",
    "            self.load_model(artifact_name)\n",
    "        else:\n",
    "            self.model = model\n",
    "            self.model.to(self.device)\n",
    "\n",
    "        print(\"model loaded to disk\")\n",
    "        predictions = []\n",
    "\n",
    "        self.model.eval()\n",
    "\n",
    "        with torch.no_grad():\n",
    "            for X, _ in self.dataloader_test:\n",
    "                X = X.to(self.device)\n",
    "                pred = self.model(X).argmax(1).cpu().numpy()\n",
    "                predictions.extend(list(pred))\n",
    "\n",
    "        date_time = self.get_date()\n",
    "        filename = f\"./predictions/{self.name_run}---{date_time}.csv\"\n",
    "        with open(filename, \"w\") as solution:\n",
    "            print(\"Id,Category\", file=solution)\n",
    "            for i, label in enumerate(predictions):\n",
    "                print(f\"{i},{label}\", file=solution)\n",
    "        print(\"test end\")\n"
   ]
  },
  {
   "cell_type": "code",
   "execution_count": 177,
   "metadata": {},
   "outputs": [
    {
     "name": "stdout",
     "output_type": "stream",
     "text": [
      "Using device cuda\n",
      "Initial val =  0.1491\n",
      "tests ok\n"
     ]
    }
   ],
   "source": [
    "def import_class(class_name):\n",
    "    return getattr(importlib.reload(getattr(__import__(f\"models.{class_name}\"), class_name)), class_name)\n",
    "\n",
    "TestModel = import_class(\"TestModel\") \n",
    "\n",
    "\n",
    "exp_config = {\n",
    "    \"batch_size\": 64,\n",
    "    \"check_interval\": 100,\n",
    "    \"epochs\": 1,\n",
    "    \"optimizer\": {\n",
    "        \"lr\": 1e-3\n",
    "    },\n",
    "    \"model_name\": \"pytorch_model\",\n",
    "    \"model_class_name\": str(TestModel.__name__),\n",
    "    \"model_args\": {\n",
    "        \"n_classes\": 10\n",
    "    }\n",
    "}\n",
    "\n",
    "exp_config[\"sheduler\"] = {\n",
    "    \"max_lr\": 0.01, \n",
    "    \"steps_per_epoch\": len(train_dataloader), \n",
    "    \"epochs\": 10\n",
    "}\n",
    "\n",
    "model = TestModel(**exp_config['model_args'])\n",
    "\n",
    "# не хочу создавать глобальные переменные \n",
    "exp_params = {\n",
    "    \"model\": model, \n",
    "    \"dataloader_train\": train_dataloader,\n",
    "    \"dataloader_valid\": val_dataloader,\n",
    "    \"dataloader_test\": test_dataloader,\n",
    "    \"loss_func_class\": nn.CrossEntropyLoss,\n",
    "    \"estimate_func_class\": nn.CrossEntropyLoss,\n",
    "    \"experiment_config\": exp_config,\n",
    "    \"optimizer_class\": torch.optim.Adam,\n",
    "    \"sheduler_class\": torch.optim.lr_scheduler.OneCycleLR,\n",
    "    \"notebook_name\": \"lab_2.ipynb\",\n",
    "    \"project_name\": \"volsu_lab2\",\n",
    "    \"name_run\": \"test_run\",\n",
    "    \"model_description\": \"Test my new model\",\n",
    "}\n",
    "\n",
    "experiment_test = Experiment(**exp_params)"
   ]
  },
  {
   "cell_type": "code",
   "execution_count": 167,
   "metadata": {},
   "outputs": [
    {
     "data": {
      "text/html": [
       "Tracking run with wandb version 0.12.11"
      ],
      "text/plain": [
       "<IPython.core.display.HTML object>"
      ]
     },
     "metadata": {},
     "output_type": "display_data"
    },
    {
     "data": {
      "text/html": [
       "Run data is saved locally in <code>d:\\programming\\volsu\\semester_6\\ai\\labs\\lab_2\\wandb\\run-20220319_162554-2r286gs6</code>"
      ],
      "text/plain": [
       "<IPython.core.display.HTML object>"
      ]
     },
     "metadata": {},
     "output_type": "display_data"
    },
    {
     "data": {
      "text/html": [
       "Syncing run <strong><a href=\"https://wandb.ai/dimweb/volsu_lab2/runs/2r286gs6\" target=\"_blank\">test_run</a></strong> to <a href=\"https://wandb.ai/dimweb/volsu_lab2\" target=\"_blank\">Weights & Biases</a> (<a href=\"https://wandb.me/run\" target=\"_blank\">docs</a>)<br/>"
      ],
      "text/plain": [
       "<IPython.core.display.HTML object>"
      ]
     },
     "metadata": {},
     "output_type": "display_data"
    },
    {
     "name": "stderr",
     "output_type": "stream",
     "text": [
      "\u001b[34m\u001b[1mwandb\u001b[0m: \u001b[33mWARNING\u001b[0m Saving files without folders. If you want to preserve sub directories pass base_path to wandb.save, i.e. wandb.save(\"/mnt/folder/file.h5\", base_path=\"/mnt\")\n"
     ]
    },
    {
     "name": "stdout",
     "output_type": "stream",
     "text": [
      "Epoch: 0\n"
     ]
    },
    {
     "name": "stderr",
     "output_type": "stream",
     "text": [
      "\u001b[34m\u001b[1mwandb\u001b[0m: \u001b[33mWARNING\u001b[0m Saving files without folders. If you want to preserve sub directories pass base_path to wandb.save, i.e. wandb.save(\"/mnt/folder/file.h5\", base_path=\"/mnt\")\n",
      "\u001b[34m\u001b[1mwandb\u001b[0m: \u001b[33mWARNING\u001b[0m Saving files without folders. If you want to preserve sub directories pass base_path to wandb.save, i.e. wandb.save(\"/mnt/folder/file.h5\", base_path=\"/mnt\")\n"
     ]
    },
    {
     "name": "stdout",
     "output_type": "stream",
     "text": [
      "train end\n",
      "\n"
     ]
    },
    {
     "data": {
      "text/html": [
       "Waiting for W&B process to finish... <strong style=\"color:green\">(success).</strong>"
      ],
      "text/plain": [
       "<IPython.core.display.HTML object>"
      ]
     },
     "metadata": {},
     "output_type": "display_data"
    },
    {
     "data": {
      "application/vnd.jupyter.widget-view+json": {
       "model_id": "000c52ad9ab2410b91cc479fad084073",
       "version_major": 2,
       "version_minor": 0
      },
      "text/plain": [
       "VBox(children=(Label(value='0.160 MB of 0.160 MB uploaded (0.000 MB deduped)\\r'), FloatProgress(value=1.0, max…"
      ]
     },
     "metadata": {},
     "output_type": "display_data"
    },
    {
     "data": {
      "text/html": [
       "<style>\n",
       "    table.wandb td:nth-child(1) { padding: 0 10px; text-align: right }\n",
       "    .wandb-row { display: flex; flex-direction: row; flex-wrap: wrap; width: 100% }\n",
       "    .wandb-col { display: flex; flex-direction: column; flex-basis: 100%; flex: 1; padding: 10px; }\n",
       "    </style>\n",
       "<div class=\"wandb-row\"><div class=\"wandb-col\"><h3>Run history:</h3><br/><table class=\"wandb\"><tr><td>train_loss</td><td>▃▁▁▁▁▂▂▁▁▁▂▂▂▂▂▂▂▂▁▁▄▂▂▃▁▄▂▁▃▂▃▂▁▅█▃▁▂▂▅</td></tr><tr><td>val_acc</td><td>▁</td></tr><tr><td>val_loss</td><td>▁</td></tr></table><br/></div><div class=\"wandb-col\"><h3>Run summary:</h3><br/><table class=\"wandb\"><tr><td>train_loss</td><td>0.0</td></tr><tr><td>val_acc</td><td>0.7779</td></tr><tr><td>val_loss</td><td>45.56505</td></tr></table><br/></div></div>"
      ],
      "text/plain": [
       "<IPython.core.display.HTML object>"
      ]
     },
     "metadata": {},
     "output_type": "display_data"
    },
    {
     "data": {
      "text/html": [
       "Synced <strong style=\"color:#cdcd00\">test_run</strong>: <a href=\"https://wandb.ai/dimweb/volsu_lab2/runs/2r286gs6\" target=\"_blank\">https://wandb.ai/dimweb/volsu_lab2/runs/2r286gs6</a><br/>Synced 5 W&B file(s), 0 media file(s), 3 artifact file(s) and 3 other file(s)"
      ],
      "text/plain": [
       "<IPython.core.display.HTML object>"
      ]
     },
     "metadata": {},
     "output_type": "display_data"
    },
    {
     "data": {
      "text/html": [
       "Find logs at: <code>.\\wandb\\run-20220319_162554-2r286gs6\\logs</code>"
      ],
      "text/plain": [
       "<IPython.core.display.HTML object>"
      ]
     },
     "metadata": {},
     "output_type": "display_data"
    }
   ],
   "source": [
    "experiment_test.train()"
   ]
  },
  {
   "cell_type": "markdown",
   "metadata": {},
   "source": [
    "## LeNet model\n",
    "\n",
    "Так как наши данные максимально простые, то я предполагаю что нам будет достаточно самой простой модели 90-х годов."
   ]
  },
  {
   "cell_type": "markdown",
   "metadata": {},
   "source": [
    "⌊(n − k + 2*p + s)/s⌋"
   ]
  },
  {
   "cell_type": "code",
   "execution_count": 178,
   "metadata": {},
   "outputs": [
    {
     "data": {
      "text/plain": [
       "tensor([[-0.8382,  0.2956,  0.2377,  0.5855, -0.0731,  0.3513, -0.2238, -0.1930,\n",
       "         -0.4768, -0.4515],\n",
       "        [-0.5003, -0.4070,  0.1999,  0.6663, -0.0175, -0.1745,  0.1603,  0.3384,\n",
       "         -0.3095,  0.4547]], grad_fn=<AddmmBackward0>)"
      ]
     },
     "execution_count": 178,
     "metadata": {},
     "output_type": "execute_result"
    }
   ],
   "source": [
    "LeNet5 = import_class(\"LeNet5\") \n",
    "\n",
    "model = LeNet5(10)\n",
    "test_img = torch.rand((2,1, 28, 28))\n",
    "model(test_img) "
   ]
  },
  {
   "cell_type": "code",
   "execution_count": 213,
   "metadata": {},
   "outputs": [
    {
     "name": "stdout",
     "output_type": "stream",
     "text": [
      "Using device cuda\n",
      "Initial val =  0.1292\n",
      "tests ok\n"
     ]
    }
   ],
   "source": [
    "\n",
    "exp_config = {\n",
    "    \"batch_size\": 16,\n",
    "    \"check_interval\": 100,\n",
    "    \"epochs\": 10,\n",
    "    \"optimizer\": {\n",
    "        \"lr\": 1e-3\n",
    "    },\n",
    "    \"model_name\": \"pytorch_model\",\n",
    "    \"model_class_name\": str(LeNet5.__name__),\n",
    "    \"model_args\": {\n",
    "        \"n_classes\": 10\n",
    "    }\n",
    "}\n",
    "\n",
    "exp_config[\"sheduler\"] = {\n",
    "    \"max_lr\": 0.01, \n",
    "    \"steps_per_epoch\": len(train_dataloader), \n",
    "    \"epochs\": 10\n",
    "}\n",
    "\n",
    "model = LeNet5(**exp_config['model_args'])\n",
    "\n",
    "# не хочу создавать глобальные переменные \n",
    "exp_params = {\n",
    "    \"model\": model, \n",
    "    \"dataloader_train\": train_dataloader,\n",
    "    \"dataloader_valid\": val_dataloader,\n",
    "    \"dataloader_test\": test_dataloader,\n",
    "    \"loss_func_class\": nn.CrossEntropyLoss,\n",
    "    \"estimate_func_class\": nn.CrossEntropyLoss,\n",
    "    \"experiment_config\": exp_config,\n",
    "    \"optimizer_class\": torch.optim.Adam,\n",
    "    \"sheduler_class\": torch.optim.lr_scheduler.OneCycleLR,\n",
    "    \"notebook_name\": \"lab_2.ipynb\",\n",
    "    \"project_name\": \"volsu_lab2\",\n",
    "    \"name_run\": \"LeNet5\",\n",
    "    \"model_description\": \"change batch size to 16\",\n",
    "}\n",
    "\n",
    "lenet_exp = Experiment(**exp_params)"
   ]
  },
  {
   "cell_type": "code",
   "execution_count": 214,
   "metadata": {},
   "outputs": [
    {
     "data": {
      "text/html": [
       "Tracking run with wandb version 0.12.11"
      ],
      "text/plain": [
       "<IPython.core.display.HTML object>"
      ]
     },
     "metadata": {},
     "output_type": "display_data"
    },
    {
     "data": {
      "text/html": [
       "Run data is saved locally in <code>d:\\programming\\volsu\\semester_6\\ai\\labs\\lab_2\\wandb\\run-20220319_235937-49jasa9m</code>"
      ],
      "text/plain": [
       "<IPython.core.display.HTML object>"
      ]
     },
     "metadata": {},
     "output_type": "display_data"
    },
    {
     "data": {
      "text/html": [
       "Syncing run <strong><a href=\"https://wandb.ai/dimweb/volsu_lab2/runs/49jasa9m\" target=\"_blank\">LeNet5</a></strong> to <a href=\"https://wandb.ai/dimweb/volsu_lab2\" target=\"_blank\">Weights & Biases</a> (<a href=\"https://wandb.me/run\" target=\"_blank\">docs</a>)<br/>"
      ],
      "text/plain": [
       "<IPython.core.display.HTML object>"
      ]
     },
     "metadata": {},
     "output_type": "display_data"
    },
    {
     "name": "stderr",
     "output_type": "stream",
     "text": [
      "\u001b[34m\u001b[1mwandb\u001b[0m: \u001b[33mWARNING\u001b[0m Saving files without folders. If you want to preserve sub directories pass base_path to wandb.save, i.e. wandb.save(\"/mnt/folder/file.h5\", base_path=\"/mnt\")\n"
     ]
    },
    {
     "name": "stdout",
     "output_type": "stream",
     "text": [
      "Epoch: 0\n",
      "Epoch: 1\n",
      "Epoch: 2\n",
      "Epoch: 3\n",
      "Epoch: 4\n",
      "Epoch: 5\n",
      "Epoch: 6\n",
      "Epoch: 7\n",
      "Epoch: 8\n",
      "Epoch: 9\n"
     ]
    },
    {
     "name": "stderr",
     "output_type": "stream",
     "text": [
      "\u001b[34m\u001b[1mwandb\u001b[0m: \u001b[33mWARNING\u001b[0m Saving files without folders. If you want to preserve sub directories pass base_path to wandb.save, i.e. wandb.save(\"/mnt/folder/file.h5\", base_path=\"/mnt\")\n",
      "\u001b[34m\u001b[1mwandb\u001b[0m: \u001b[33mWARNING\u001b[0m Saving files without folders. If you want to preserve sub directories pass base_path to wandb.save, i.e. wandb.save(\"/mnt/folder/file.h5\", base_path=\"/mnt\")\n"
     ]
    },
    {
     "name": "stdout",
     "output_type": "stream",
     "text": [
      "train end\n",
      "\n"
     ]
    },
    {
     "data": {
      "text/html": [
       "Waiting for W&B process to finish... <strong style=\"color:green\">(success).</strong>"
      ],
      "text/plain": [
       "<IPython.core.display.HTML object>"
      ]
     },
     "metadata": {},
     "output_type": "display_data"
    },
    {
     "data": {
      "application/vnd.jupyter.widget-view+json": {
       "model_id": "f047ab5a1e9d4663a9ba1c5bd4d45b4c",
       "version_major": 2,
       "version_minor": 0
      },
      "text/plain": [
       "VBox(children=(Label(value='0.628 MB of 0.628 MB uploaded (0.001 MB deduped)\\r'), FloatProgress(value=1.0, max…"
      ]
     },
     "metadata": {},
     "output_type": "display_data"
    },
    {
     "data": {
      "text/html": [
       "<style>\n",
       "    table.wandb td:nth-child(1) { padding: 0 10px; text-align: right }\n",
       "    .wandb-row { display: flex; flex-direction: row; flex-wrap: wrap; width: 100% }\n",
       "    .wandb-col { display: flex; flex-direction: column; flex-basis: 100%; flex: 1; padding: 10px; }\n",
       "    </style>\n",
       "<div class=\"wandb-row\"><div class=\"wandb-col\"><h3>Run history:</h3><br/><table class=\"wandb\"><tr><td>train_loss</td><td>▃▃▄▃▃▄▂▃▃▄▂▂▃▂▃▃█▂▂▂▂▃▃▁▂▁▂▂▄▂▄▃▂▂▂▂▃▁▁▂</td></tr><tr><td>val_acc</td><td>▁▂▂▄▄▆▇███</td></tr><tr><td>val_loss</td><td>██▇▆▆▃▂▁▁▁</td></tr></table><br/></div><div class=\"wandb-col\"><h3>Run summary:</h3><br/><table class=\"wandb\"><tr><td>train_loss</td><td>0.36124</td></tr><tr><td>val_acc</td><td>0.8502</td></tr><tr><td>val_loss</td><td>0.39938</td></tr></table><br/></div></div>"
      ],
      "text/plain": [
       "<IPython.core.display.HTML object>"
      ]
     },
     "metadata": {},
     "output_type": "display_data"
    },
    {
     "data": {
      "text/html": [
       "Synced <strong style=\"color:#cdcd00\">LeNet5</strong>: <a href=\"https://wandb.ai/dimweb/volsu_lab2/runs/49jasa9m\" target=\"_blank\">https://wandb.ai/dimweb/volsu_lab2/runs/49jasa9m</a><br/>Synced 5 W&B file(s), 0 media file(s), 3 artifact file(s) and 3 other file(s)"
      ],
      "text/plain": [
       "<IPython.core.display.HTML object>"
      ]
     },
     "metadata": {},
     "output_type": "display_data"
    },
    {
     "data": {
      "text/html": [
       "Find logs at: <code>.\\wandb\\run-20220319_235937-49jasa9m\\logs</code>"
      ],
      "text/plain": [
       "<IPython.core.display.HTML object>"
      ]
     },
     "metadata": {},
     "output_type": "display_data"
    }
   ],
   "source": [
    "lenet_exp.train()"
   ]
  },
  {
   "cell_type": "code",
   "execution_count": 194,
   "metadata": {},
   "outputs": [
    {
     "data": {
      "text/html": [
       "Tracking run with wandb version 0.12.11"
      ],
      "text/plain": [
       "<IPython.core.display.HTML object>"
      ]
     },
     "metadata": {},
     "output_type": "display_data"
    },
    {
     "data": {
      "text/html": [
       "Run data is saved locally in <code>d:\\programming\\volsu\\semester_6\\ai\\labs\\lab_2\\wandb\\run-20220319_174340-1ydjbklv</code>"
      ],
      "text/plain": [
       "<IPython.core.display.HTML object>"
      ]
     },
     "metadata": {},
     "output_type": "display_data"
    },
    {
     "data": {
      "text/html": [
       "Syncing run <strong><a href=\"https://wandb.ai/dimweb/volsu_lab2/runs/1ydjbklv\" target=\"_blank\">vibrant-surf-10</a></strong> to <a href=\"https://wandb.ai/dimweb/volsu_lab2\" target=\"_blank\">Weights & Biases</a> (<a href=\"https://wandb.me/run\" target=\"_blank\">docs</a>)<br/>"
      ],
      "text/plain": [
       "<IPython.core.display.HTML object>"
      ]
     },
     "metadata": {},
     "output_type": "display_data"
    },
    {
     "name": "stdout",
     "output_type": "stream",
     "text": [
      "\n"
     ]
    },
    {
     "data": {
      "text/html": [
       "Waiting for W&B process to finish... <strong style=\"color:green\">(success).</strong>"
      ],
      "text/plain": [
       "<IPython.core.display.HTML object>"
      ]
     },
     "metadata": {},
     "output_type": "display_data"
    },
    {
     "data": {
      "application/vnd.jupyter.widget-view+json": {
       "model_id": "02975a598a554ddd9ba08d3870244b38",
       "version_major": 2,
       "version_minor": 0
      },
      "text/plain": [
       "VBox(children=(Label(value='0.001 MB of 0.001 MB uploaded (0.000 MB deduped)\\r'), FloatProgress(value=1.0, max…"
      ]
     },
     "metadata": {},
     "output_type": "display_data"
    },
    {
     "data": {
      "text/html": [
       "Synced <strong style=\"color:#cdcd00\">vibrant-surf-10</strong>: <a href=\"https://wandb.ai/dimweb/volsu_lab2/runs/1ydjbklv\" target=\"_blank\">https://wandb.ai/dimweb/volsu_lab2/runs/1ydjbklv</a><br/>Synced 4 W&B file(s), 0 media file(s), 0 artifact file(s) and 0 other file(s)"
      ],
      "text/plain": [
       "<IPython.core.display.HTML object>"
      ]
     },
     "metadata": {},
     "output_type": "display_data"
    },
    {
     "data": {
      "text/html": [
       "Find logs at: <code>.\\wandb\\run-20220319_174340-1ydjbklv\\logs</code>"
      ],
      "text/plain": [
       "<IPython.core.display.HTML object>"
      ]
     },
     "metadata": {},
     "output_type": "display_data"
    },
    {
     "name": "stdout",
     "output_type": "stream",
     "text": [
      "model loaded to disk\n",
      "test end\n"
     ]
    }
   ],
   "source": [
    "lenet_exp.test(artifact_name=\"LeNet5:v0\")"
   ]
  },
  {
   "cell_type": "markdown",
   "metadata": {},
   "source": [
    "## Оцениваем модель"
   ]
  },
  {
   "cell_type": "code",
   "execution_count": 212,
   "metadata": {},
   "outputs": [
    {
     "name": "stdout",
     "output_type": "stream",
     "text": [
      "Lenet5 accuracy 0.8481\n"
     ]
    }
   ],
   "source": [
    "predicts = pd.read_csv(\"./predictions/LeNet5---03_19_2022__17_43_50.csv\", index_col=\"Id\")\n",
    "predicts = predicts[['Category']].to_numpy().flatten()\n",
    "# predicts == test_data.\n",
    "ground_truth = dataset_test.targets.numpy()\n",
    "accuracy = (ground_truth == predicts).astype(np.int32).sum() / len(predicts)\n",
    "\n",
    "print(f\"Lenet5 accuracy {accuracy}\")"
   ]
  }
 ],
 "metadata": {
  "interpreter": {
   "hash": "75c218c9925bb57ff8059454943a9629e2d1f68e51994adef3554638d736487b"
  },
  "kernelspec": {
   "display_name": "Python 3.10.2 ('volsu_ai': venv)",
   "language": "python",
   "name": "python3"
  },
  "language_info": {
   "codemirror_mode": {
    "name": "ipython",
    "version": 3
   },
   "file_extension": ".py",
   "mimetype": "text/x-python",
   "name": "python",
   "nbconvert_exporter": "python",
   "pygments_lexer": "ipython3",
   "version": "3.10.2"
  },
  "orig_nbformat": 4
 },
 "nbformat": 4,
 "nbformat_minor": 2
}
