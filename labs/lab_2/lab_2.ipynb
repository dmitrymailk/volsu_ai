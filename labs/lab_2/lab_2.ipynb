{
 "cells": [],
 "metadata": {
  "interpreter": {
   "hash": "75c218c9925bb57ff8059454943a9629e2d1f68e51994adef3554638d736487b"
  },
  "kernelspec": {
   "display_name": "Python 3.10.2 ('volsu_ai': venv)",
   "language": "python",
   "name": "python3"
  },
  "language_info": {
   "codemirror_mode": {
    "name": "ipython",
    "version": 3
   },
   "file_extension": ".py",
   "mimetype": "text/x-python",
   "name": "python",
   "nbconvert_exporter": "python",
   "pygments_lexer": "ipython3",
   "version": "3.10.2"
  },
  "orig_nbformat": 4
 },
 "nbformat": 4,
 "nbformat_minor": 2
}
